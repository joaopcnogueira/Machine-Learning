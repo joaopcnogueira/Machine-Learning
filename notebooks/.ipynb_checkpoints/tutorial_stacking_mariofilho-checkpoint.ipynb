{
 "cells": [
  {
   "cell_type": "markdown",
   "metadata": {},
   "source": [
    "### Referência\n",
    "[Aumentando o Poder Preditivo de Seus Modelos de Machine Learning com Stacking Ensembles](http://mariofilho.com/tutorial-aumentando-o-poder-preditivo-de-seus-modelos-de-machine-learning-com-stacking-ensembles/)"
   ]
  },
  {
   "cell_type": "code",
   "execution_count": 11,
   "metadata": {},
   "outputs": [],
   "source": [
    "import numpy as np\n",
    "import pandas as pd"
   ]
  },
  {
   "cell_type": "markdown",
   "metadata": {},
   "source": [
    "### Carregando os dados"
   ]
  },
  {
   "cell_type": "code",
   "execution_count": 34,
   "metadata": {},
   "outputs": [
    {
     "data": {
      "text/html": [
       "<div>\n",
       "<style scoped>\n",
       "    .dataframe tbody tr th:only-of-type {\n",
       "        vertical-align: middle;\n",
       "    }\n",
       "\n",
       "    .dataframe tbody tr th {\n",
       "        vertical-align: top;\n",
       "    }\n",
       "\n",
       "    .dataframe thead th {\n",
       "        text-align: right;\n",
       "    }\n",
       "</style>\n",
       "<table border=\"1\" class=\"dataframe\">\n",
       "  <thead>\n",
       "    <tr style=\"text-align: right;\">\n",
       "      <th></th>\n",
       "      <th>MSSubClass</th>\n",
       "      <th>MSZoning</th>\n",
       "      <th>LotFrontage</th>\n",
       "      <th>LotArea</th>\n",
       "      <th>Street</th>\n",
       "    </tr>\n",
       "    <tr>\n",
       "      <th>Id</th>\n",
       "      <th></th>\n",
       "      <th></th>\n",
       "      <th></th>\n",
       "      <th></th>\n",
       "      <th></th>\n",
       "    </tr>\n",
       "  </thead>\n",
       "  <tbody>\n",
       "    <tr>\n",
       "      <td>1</td>\n",
       "      <td>60</td>\n",
       "      <td>RL</td>\n",
       "      <td>65.0</td>\n",
       "      <td>8450</td>\n",
       "      <td>Pave</td>\n",
       "    </tr>\n",
       "    <tr>\n",
       "      <td>2</td>\n",
       "      <td>20</td>\n",
       "      <td>RL</td>\n",
       "      <td>80.0</td>\n",
       "      <td>9600</td>\n",
       "      <td>Pave</td>\n",
       "    </tr>\n",
       "    <tr>\n",
       "      <td>3</td>\n",
       "      <td>60</td>\n",
       "      <td>RL</td>\n",
       "      <td>68.0</td>\n",
       "      <td>11250</td>\n",
       "      <td>Pave</td>\n",
       "    </tr>\n",
       "    <tr>\n",
       "      <td>4</td>\n",
       "      <td>70</td>\n",
       "      <td>RL</td>\n",
       "      <td>60.0</td>\n",
       "      <td>9550</td>\n",
       "      <td>Pave</td>\n",
       "    </tr>\n",
       "    <tr>\n",
       "      <td>5</td>\n",
       "      <td>60</td>\n",
       "      <td>RL</td>\n",
       "      <td>84.0</td>\n",
       "      <td>14260</td>\n",
       "      <td>Pave</td>\n",
       "    </tr>\n",
       "  </tbody>\n",
       "</table>\n",
       "</div>"
      ],
      "text/plain": [
       "    MSSubClass MSZoning  LotFrontage  LotArea Street\n",
       "Id                                                  \n",
       "1           60       RL         65.0     8450   Pave\n",
       "2           20       RL         80.0     9600   Pave\n",
       "3           60       RL         68.0    11250   Pave\n",
       "4           70       RL         60.0     9550   Pave\n",
       "5           60       RL         84.0    14260   Pave"
      ]
     },
     "execution_count": 34,
     "metadata": {},
     "output_type": "execute_result"
    }
   ],
   "source": [
    "train = pd.read_csv(\"data/ames_raw.csv\", index_col='Id')\n",
    "\n",
    "X = train.drop('SalePrice', axis=1)\n",
    "y = train.SalePrice.copy()\n",
    "train.head().iloc[:, :5]"
   ]
  },
  {
   "cell_type": "markdown",
   "metadata": {},
   "source": [
    "### Funções auxiliares"
   ]
  },
  {
   "cell_type": "code",
   "execution_count": 41,
   "metadata": {},
   "outputs": [],
   "source": [
    "from sklearn.metrics import mean_squared_error\n",
    "from sklearn.model_selection import cross_val_score, cross_val_predict, KFold\n",
    "from sklearn.ensemble import RandomForestRegressor\n",
    "\n",
    "def rmsle(estimator, X, y):\n",
    "    p = estimator.predict(X)\n",
    "    return np.sqrt(mean_squared_error(np.log1p(y), np.log1p(p)))\n",
    "\n",
    "def rmsle_log_y(estimator, X, y):\n",
    "    p = estimator.predict(X)\n",
    "    return np.sqrt(mean_squared_error(y, p))\n",
    "\n",
    "def rmsle_sqrt_y(estimator, X, y):\n",
    "    p = estimator.predict(X)\n",
    "    y = np.power(y, 2)\n",
    "    p = np.power(p, 2)\n",
    "    return np.sqrt(mean_squared_error(np.log1p(y), np.log1p(p)))\n",
    "\n",
    "kf = KFold(n_splits=5, shuffle=True, random_state=1)"
   ]
  },
  {
   "cell_type": "markdown",
   "metadata": {},
   "source": [
    "### Feature set 1: variáveis \"numéricas\""
   ]
  },
  {
   "cell_type": "code",
   "execution_count": 45,
   "metadata": {},
   "outputs": [
    {
     "name": "stdout",
     "output_type": "stream",
     "text": [
      "Dims (1460, 36)\n",
      "RMSLE: 0.14582352617986846\n"
     ]
    }
   ],
   "source": [
    "X1 = X.select_dtypes(include=[np.number]).fillna(-1)\n",
    "print('Dims', X1.shape)\n",
    "model = RandomForestRegressor(n_estimators=1000, random_state=0)\n",
    "error = cross_val_score(model, X1, y, cv=kf, scoring=rmsle, n_jobs=-1).mean()\n",
    "print(f\"RMSLE: {error}\")"
   ]
  },
  {
   "cell_type": "markdown",
   "metadata": {},
   "source": [
    "### Feature set 2: Ordinal Encoding"
   ]
  },
  {
   "cell_type": "code",
   "execution_count": 49,
   "metadata": {},
   "outputs": [
    {
     "name": "stdout",
     "output_type": "stream",
     "text": [
      "Dims (1460, 79)\n",
      "RMSLE: 0.14383736485915208\n"
     ]
    }
   ],
   "source": [
    "from sklearn.preprocessing import LabelEncoder\n",
    "\n",
    "X2 = X.copy()\n",
    "for col in X2.columns:\n",
    "    if X2[col].dtype == object:\n",
    "        enc = LabelEncoder()\n",
    "        X2[col] = enc.fit_transform(X[col].fillna('Missing'))\n",
    "        \n",
    "print('Dims', X2.shape)\n",
    "X2.fillna(-1, inplace=True)\n",
    "model = RandomForestRegressor(n_estimators=1000, random_state=0)\n",
    "error = cross_val_score(model, X2, y, cv=kf, scoring=rmsle, n_jobs=-1).mean()\n",
    "print(f\"RMSLE: {error}\")"
   ]
  },
  {
   "cell_type": "markdown",
   "metadata": {},
   "source": [
    "### Transformações do Target\n",
    "\n",
    "#### Log\n"
   ]
  },
  {
   "cell_type": "code",
   "execution_count": 53,
   "metadata": {},
   "outputs": [
    {
     "name": "stdout",
     "output_type": "stream",
     "text": [
      "RF, X1, log-target RMSLE: 0.14516026930052636\n",
      "RF, X2, log-target RMSLE: 0.14209480789088058\n"
     ]
    }
   ],
   "source": [
    "# log\n",
    "model = RandomForestRegressor(n_estimators=1000, random_state=0)\n",
    "error = cross_val_score(model, X1, np.log1p(y), cv=kf, scoring=rmsle_log_y, n_jobs=-1).mean()\n",
    "print('RF, X1, log-target RMSLE:', error)\n",
    "\n",
    "model = RandomForestRegressor(n_estimators=1000, random_state=0)\n",
    "error = cross_val_score(model, X2, np.log1p(y), cv=kf, scoring=rmsle_log_y, n_jobs=-1).mean()\n",
    "print('RF, X2, log-target RMSLE:', error)"
   ]
  },
  {
   "cell_type": "markdown",
   "metadata": {},
   "source": [
    "#### Raiz Quadrada"
   ]
  },
  {
   "cell_type": "code",
   "execution_count": 54,
   "metadata": {},
   "outputs": [
    {
     "name": "stdout",
     "output_type": "stream",
     "text": [
      "RF, X1, sqrt-target RMSLE: 0.14565293448427205\n",
      "RF, X2, sqrt-target RMSLE: 0.14300460013198157\n"
     ]
    }
   ],
   "source": [
    "error = cross_val_score(model, X1, np.sqrt(y), cv=kf, scoring=rmsle_sqrt_y, n_jobs=-1).mean()\n",
    "print('RF, X1, sqrt-target RMSLE:', error)\n",
    "\n",
    "model = RandomForestRegressor(n_estimators=1000, random_state=0)\n",
    "error = cross_val_score(model, X2, np.sqrt(y), cv=kf, scoring=rmsle_sqrt_y, n_jobs=-1).mean()\n",
    "print('RF, X2, sqrt-target RMSLE:', error)"
   ]
  },
  {
   "cell_type": "markdown",
   "metadata": {},
   "source": [
    "### Outro Modelo: GBM"
   ]
  },
  {
   "cell_type": "code",
   "execution_count": 56,
   "metadata": {},
   "outputs": [
    {
     "name": "stdout",
     "output_type": "stream",
     "text": [
      "GBM, X1, log-target RMSLE: 0.13349245491356662\n",
      "GBM, X2, log-target RMSLE: 0.12980689048155078\n"
     ]
    }
   ],
   "source": [
    "# log\n",
    "from sklearn.ensemble import GradientBoostingRegressor\n",
    "\n",
    "model = GradientBoostingRegressor(random_state=0)\n",
    "error = cross_val_score(model, X1, np.log1p(y), cv=kf, scoring=rmsle_log_y, n_jobs=-1).mean()\n",
    "print('GBM, X1, log-target RMSLE:', error)\n",
    "\n",
    "model = GradientBoostingRegressor(random_state=0)\n",
    "error = cross_val_score(model, X2, np.log1p(y), cv=kf, scoring=rmsle_log_y, n_jobs=-1).mean()\n",
    "print('GBM, X2, log-target RMSLE:', error)"
   ]
  },
  {
   "cell_type": "code",
   "execution_count": 57,
   "metadata": {},
   "outputs": [
    {
     "name": "stdout",
     "output_type": "stream",
     "text": [
      "GBM, X1, sqrt-target RMSLE: 0.13425897281342522\n",
      "GBM, X2, sqrt-target RMSLE: 0.1309192356821107\n"
     ]
    }
   ],
   "source": [
    "# raiz quadrada\n",
    "from sklearn.ensemble import GradientBoostingRegressor\n",
    "                \n",
    "model = GradientBoostingRegressor(random_state=0)\n",
    "error = cross_val_score(model, X1, np.sqrt(y), cv=kf, scoring=rmsle_sqrt_y).mean()\n",
    "print('GBM, X1, sqrt-target RMSLE:', error)\n",
    "\n",
    "model = GradientBoostingRegressor(random_state=0)\n",
    "error = cross_val_score(model, X2, np.sqrt(y), cv=kf, scoring=rmsle_sqrt_y).mean()\n",
    "print('GBM, X2, sqrt-target RMSLE:', error)"
   ]
  },
  {
   "cell_type": "markdown",
   "metadata": {},
   "source": [
    "# Stack"
   ]
  },
  {
   "cell_type": "code",
   "execution_count": 82,
   "metadata": {},
   "outputs": [
    {
     "name": "stdout",
     "output_type": "stream",
     "text": [
      "RMSLE Fold 0 - RMSLE 0.1248\n",
      "RMSLE Fold 1 - RMSLE 0.1447\n",
      "RMSLE Fold 2 - RMSLE 0.1257\n",
      "RMSLE Fold 3 - RMSLE 0.1406\n",
      "RMSLE Fold 4 - RMSLE 0.1086\n",
      "RMSLE CV5 0.1289\n"
     ]
    }
   ],
   "source": [
    "from itertools import product\n",
    "from sklearn.linear_model import Ridge\n",
    "\n",
    "kf_out = KFold(n_splits=5, shuffle=True, random_state=1)\n",
    "kf_in = KFold(n_splits=5, shuffle=True, random_state=2)\n",
    "\n",
    "cv_mean = []\n",
    "for fold, (tr, ts) in enumerate(kf_out.split(X, y)):\n",
    "    X1_train, X1_test = X1.iloc[tr], X1.iloc[ts]\n",
    "    X2_train, X2_test = X2.iloc[tr], X2.iloc[ts]\n",
    "    y_train, y_test = y.iloc[tr], y.iloc[ts]\n",
    "    \n",
    "    modelos = [GradientBoostingRegressor(random_state=0), RandomForestRegressor(random_state=0, n_estimators=10)]\n",
    "    targets = [np.log1p, np.sqrt]\n",
    "    feature_sets = [(X1_train, X1_test), (X2_train, X2_test)]\n",
    "    \n",
    "    \n",
    "    predictions_cv = []\n",
    "    predictions_test = []\n",
    "    for model, target, feature_set in product(modelos, targets, feature_sets):\n",
    "        predictions_cv.append(cross_val_predict(model, feature_set[0], target(y_train), cv=kf_in, n_jobs=-1).reshape(-1,1))\n",
    "        model.fit(feature_set[0], target(y_train))\n",
    "        ptest = model.predict(feature_set[1])\n",
    "        predictions_test.append(ptest.reshape(-1,1))\n",
    "        \n",
    "    predictions_cv = np.concatenate(predictions_cv, axis=1)\n",
    "    predictions_test = np.concatenate(predictions_test, axis=1)\n",
    "    \n",
    "    stacker = Ridge()\n",
    "    stacker.fit(predictions_cv, np.log1p(y_train))\n",
    "    error = rmsle_log_y(stacker, predictions_test, np.log1p(y_test))\n",
    "    cv_mean.append(error)\n",
    "    print('RMSLE Fold %d - RMSLE %.4f' % (fold, error))\n",
    "    \n",
    "print('RMSLE CV5 %.4f' % np.mean(cv_mean))"
   ]
  },
  {
   "cell_type": "code",
   "execution_count": null,
   "metadata": {},
   "outputs": [],
   "source": []
  }
 ],
 "metadata": {
  "kernelspec": {
   "display_name": "Python 3",
   "language": "python",
   "name": "python3"
  },
  "language_info": {
   "codemirror_mode": {
    "name": "ipython",
    "version": 3
   },
   "file_extension": ".py",
   "mimetype": "text/x-python",
   "name": "python",
   "nbconvert_exporter": "python",
   "pygments_lexer": "ipython3",
   "version": "3.7.3"
  }
 },
 "nbformat": 4,
 "nbformat_minor": 4
}
